{
 "cells": [
  {
   "cell_type": "code",
   "execution_count": 1,
   "id": "ad883e90",
   "metadata": {},
   "outputs": [
    {
     "name": "stderr",
     "output_type": "stream",
     "text": [
      "C:\\Users\\sungb\\anaconda3\\envs\\torch\\lib\\site-packages\\torchvision\\io\\image.py:11: UserWarning: Failed to load image Python extension: [WinError 126] 지정된 모듈을 찾을 수 없습니다\n",
      "  warn(f\"Failed to load image Python extension: {e}\")\n"
     ]
    }
   ],
   "source": [
    "from torch.utils.data import DataLoader\n",
    "import sys\n",
    "import os\n",
    "from glob import glob\n",
    "sys.path.append(\"../\")\n",
    "sys.path.append(\"../datasets/\")\n",
    "sys.path.append(\"../archs/\")\n",
    "from datasets.MAHNOB import MAHNOB\n",
    "from datasets.PURE import PURE"
   ]
  },
  {
   "cell_type": "code",
   "execution_count": 10,
   "id": "a4f3f36d",
   "metadata": {},
   "outputs": [
    {
     "ename": "NameError",
     "evalue": "name 'dataset' is not defined",
     "output_type": "error",
     "traceback": [
      "\u001b[1;31m---------------------------------------------------------------------------\u001b[0m",
      "\u001b[1;31mNameError\u001b[0m                                 Traceback (most recent call last)",
      "\u001b[1;32m~\\AppData\\Local\\Temp\\ipykernel_9176\\2691105086.py\u001b[0m in \u001b[0;36m<module>\u001b[1;34m\u001b[0m\n\u001b[1;32m----> 1\u001b[1;33m \u001b[0mtest\u001b[0m \u001b[1;33m=\u001b[0m \u001b[0mDataLoader\u001b[0m\u001b[1;33m(\u001b[0m\u001b[0mdataset\u001b[0m\u001b[1;33m)\u001b[0m\u001b[1;33m\u001b[0m\u001b[1;33m\u001b[0m\u001b[0m\n\u001b[0m",
      "\u001b[1;31mNameError\u001b[0m: name 'dataset' is not defined"
     ]
    }
   ],
   "source": [
    "test = DataLoader(dataset)"
   ]
  },
  {
   "cell_type": "code",
   "execution_count": 5,
   "id": "c457cc24",
   "metadata": {},
   "outputs": [
    {
     "name": "stdout",
     "output_type": "stream",
     "text": [
      "torch.Size([1, 3, 512, 128, 128])\n",
      "torch.Size([1, 3, 512, 128, 128])\n",
      "torch.Size([1, 3, 512, 128, 128])\n",
      "torch.Size([1, 3, 512, 128, 128])\n"
     ]
    }
   ],
   "source": [
    "import matplotlib.pyplot as plt\n",
    "%matplotlib inline\n",
    "for vids, targets in test:\n",
    "    print(vids.shape)\n",
    "    #     break"
   ]
  },
  {
   "cell_type": "code",
   "execution_count": 6,
   "id": "0223853a",
   "metadata": {},
   "outputs": [],
   "source": [
    "import cv2\n",
    "import numpy as np\n",
    "for i in range(512):\n",
    "    cv2.imshow('sample image', cv2.cvtColor(\n",
    "        np.array(vids[0, :, i, :, :].permute(1, 2, 0)), cv2.COLOR_BGR2RGB))\n",
    "    cv2.waitKey(0)  # waits until a key is pressed\n",
    "cv2.destroyAllWindows()  # destroys the window showing image"
   ]
  },
  {
   "cell_type": "code",
   "execution_count": 7,
   "id": "12f0d618",
   "metadata": {
    "collapsed": true
   },
   "outputs": [
    {
     "data": {
      "text/plain": [
       "tensor([[ 1.1757e-01, -2.1581e-02, -1.0348e-01, -1.1287e-01, -6.9022e-02,\n",
       "         -2.2387e-02, -5.9440e-02, -1.4079e-01, -2.2237e-01, -2.7739e-01,\n",
       "         -3.7820e-01, -4.6672e-01, -5.7167e-01, -6.0367e-01, -6.5830e-01,\n",
       "         -6.6053e-01, -6.8294e-01, -7.0936e-01, -7.3578e-01, -7.1027e-01,\n",
       "         -4.3080e-01,  8.7902e-02,  6.0724e-01,  8.1832e-01,  6.9881e-01,\n",
       "          4.8128e-01,  3.0529e-01,  1.5048e-01, -2.1672e-03, -4.8809e-02,\n",
       "         -1.1735e-02,  3.0457e-02,  4.1872e-04, -8.3299e-02, -1.9329e-01,\n",
       "         -2.7698e-01, -3.6263e-01, -4.4475e-01, -4.9986e-01, -5.5881e-01,\n",
       "         -6.3009e-01, -6.5651e-01, -6.8294e-01, -6.8294e-01, -6.8294e-01,\n",
       "         -6.0485e-01, -2.8276e-01,  2.2014e-01,  6.4888e-01,  7.4385e-01,\n",
       "          6.5923e-01,  4.3714e-01,  2.1692e-01,  1.3665e-02, -8.5843e-02,\n",
       "         -1.1533e-01, -6.0224e-02, -2.2387e-02, -6.1092e-02, -1.4488e-01,\n",
       "         -2.1926e-01, -2.8579e-01, -3.6950e-01, -4.7559e-01, -5.5702e-01,\n",
       "         -5.8567e-01, -6.3009e-01, -6.4282e-01, -6.5651e-01, -6.8294e-01,\n",
       "         -5.7907e-01, -2.1438e-01,  4.4328e-02,  4.7689e-01,  6.0821e-01,\n",
       "          4.6366e-01,  2.1073e-01, -5.6129e-02, -2.1795e-01, -2.4745e-01,\n",
       "         -2.0379e-01, -1.3728e-01, -1.4749e-01, -1.9172e-01, -2.3099e-01,\n",
       "         -3.1266e-01, -4.2051e-01, -5.2842e-01, -6.0367e-01, -6.3850e-01,\n",
       "         -6.6714e-01, -7.2209e-01, -7.6220e-01, -7.2774e-01, -4.4185e-01,\n",
       "         -1.7608e-01,  3.4794e-01,  6.8896e-01,  6.8555e-01,  4.8992e-01,\n",
       "          2.7136e-01,  5.8053e-02, -7.0095e-02, -1.0165e-01, -6.0207e-02,\n",
       "         -4.8809e-02, -5.8513e-02, -1.1853e-01, -2.0182e-01, -2.8582e-01,\n",
       "         -3.9594e-01, -4.7954e-01, -5.8348e-01, -6.3852e-01, -6.8294e-01,\n",
       "         -7.0936e-01, -7.3578e-01, -6.7492e-01, -5.4187e-01, -1.6669e-01,\n",
       "          3.5059e-01,  6.3702e-01,  6.3278e-01,  4.6359e-01,  2.4956e-01,\n",
       "          5.8092e-02, -7.0056e-02, -1.0165e-01, -7.5231e-02, -4.8809e-02,\n",
       "         -6.8202e-02, -1.7132e-01, -2.3376e-01, -3.3866e-01, -4.4875e-01,\n",
       "         -5.3246e-01, -6.0991e-01, -6.8294e-01, -7.1995e-01, -7.3578e-01,\n",
       "         -7.6220e-01, -7.6220e-01, -7.6220e-01, -5.5304e-01, -1.4910e-01,\n",
       "          3.4344e-01,  5.5707e-01,  4.6761e-01,  2.9623e-01,  1.0243e-01,\n",
       "         -7.0041e-02, -1.6725e-01, -1.8092e-01, -1.3728e-01, -1.0165e-01,\n",
       "         -1.2326e-01, -2.2819e-01, -2.8625e-01, -3.9589e-01, -5.0200e-01,\n",
       "         -5.8348e-01, -6.3849e-01, -6.8294e-01, -7.2206e-01, -7.3578e-01,\n",
       "         -7.6220e-01, -7.8158e-01, -8.1026e-01, -7.6794e-01, -4.9999e-01,\n",
       "         -1.1361e-01,  2.5394e-01,  3.0246e-01,  1.3732e-01, -6.4766e-02,\n",
       "         -2.0630e-01, -3.0527e-01, -3.8307e-01, -3.7291e-01, -3.1783e-01,\n",
       "         -3.1042e-01, -3.6548e-01, -4.4880e-01, -5.3241e-01, -6.3631e-01,\n",
       "         -6.9133e-01, -7.8341e-01, -8.0142e-01, -8.3004e-01, -8.4147e-01,\n",
       "         -8.6789e-01, -8.6789e-01, -8.9431e-01, -7.1121e-01, -3.5154e-01,\n",
       "          5.0587e-02,  2.4183e-01,  1.3734e-01,  9.1727e-03, -1.3973e-01,\n",
       "         -2.9021e-01, -4.0953e-01, -4.4514e-01, -3.9706e-01, -3.6587e-01,\n",
       "         -3.6587e-01, -4.4876e-01, -5.3247e-01, -6.0985e-01, -6.9982e-01,\n",
       "         -7.1996e-01, -8.0141e-01, -8.3008e-01, -8.4147e-01, -8.6789e-01,\n",
       "         -8.8954e-01, -8.9431e-01, -8.9469e-01, -6.4182e-01, -2.0168e-01,\n",
       "          2.1973e-01,  3.5591e-01,  3.1561e-01,  1.5060e-01, -2.9543e-02,\n",
       "         -1.8884e-01, -2.9904e-01, -3.1786e-01, -2.8922e-01, -2.3413e-01,\n",
       "         -2.8840e-01, -3.7394e-01, -4.5133e-01, -5.1483e-01, -5.8787e-01,\n",
       "         -6.4278e-01, -6.9796e-01, -7.5303e-01, -8.0799e-01, -8.4147e-01,\n",
       "         -8.4147e-01, -8.6749e-01, -8.6970e-01, -8.6390e-01, -7.3117e-01,\n",
       "         -3.5134e-01,  1.1522e-01,  3.9949e-01,  3.7043e-01,  1.9023e-01,\n",
       "         -1.2304e-03, -1.6660e-01, -2.5753e-01, -3.1265e-01, -2.8488e-01,\n",
       "         -2.6018e-01, -2.9283e-01, -3.4788e-01, -4.2933e-01, -4.9716e-01,\n",
       "         -5.8083e-01, -6.4731e-01, -7.2176e-01, -7.5741e-01, -7.6220e-01,\n",
       "         -7.6257e-01, -7.8862e-01, -7.9265e-01, -8.2124e-01, -8.4988e-01,\n",
       "         -8.5725e-01, -7.0030e-01, -3.0005e-01,  1.6839e-01,  4.3915e-01,\n",
       "          3.8353e-01,  1.7288e-01, -4.7217e-02, -1.7041e-01, -2.3775e-01,\n",
       "         -2.8661e-01, -2.5177e-01, -2.3376e-01, -2.3376e-01, -2.7522e-01,\n",
       "         -3.5666e-01, -4.3108e-01, -4.9319e-01, -5.7463e-01, -6.2972e-01,\n",
       "         -6.5651e-01, -6.8694e-01, -7.1558e-01, -7.3578e-01, -7.7273e-01,\n",
       "         -7.6220e-01, -7.7721e-01, -7.8862e-01, -6.3879e-01, -2.7227e-01,\n",
       "          1.4409e-01,  3.2068e-01,  3.1567e-01,  1.2006e-01, -1.0002e-01,\n",
       "         -2.8536e-01, -3.9502e-01, -4.0604e-01, -3.5086e-01, -2.6936e-01,\n",
       "         -2.7960e-01, -3.3467e-01, -4.0419e-01, -4.7077e-01, -5.2621e-01,\n",
       "         -6.0766e-01, -6.6273e-01, -7.1779e-01, -7.3578e-01, -7.3578e-01,\n",
       "         -7.6220e-01, -7.6220e-01, -7.8162e-01, -7.6695e-01, -7.1198e-01,\n",
       "         -4.2138e-01,  7.2949e-02,  4.9171e-01,  5.7286e-01,  3.9321e-01,\n",
       "          1.7294e-01, -3.4171e-02, -1.8451e-01, -2.3376e-01, -1.6846e-01,\n",
       "         -1.1728e-01, -1.0165e-01, -1.2757e-01, -2.0906e-01, -2.9047e-01,\n",
       "         -3.7191e-01, -4.3543e-01, -5.0857e-01, -5.6359e-01, -6.3009e-01,\n",
       "         -6.5651e-01, -6.5651e-01, -6.5651e-01, -6.8030e-01, -6.8294e-01,\n",
       "         -7.0764e-01, -5.5346e-01, -1.7257e-01,  3.7005e-01,  6.9604e-01,\n",
       "          6.7907e-01,  4.9912e-01,  2.7896e-01,  1.3350e-01,  4.0180e-02,\n",
       "         -4.6198e-02, -4.9202e-02, -2.0737e-02,  4.0347e-03, -2.8474e-02,\n",
       "         -1.0997e-01, -2.0199e-01, -2.5940e-01, -3.6927e-01, -4.5279e-01,\n",
       "         -4.9441e-01, -5.2440e-01, -5.5083e-01, -5.7725e-01, -6.0367e-01,\n",
       "         -6.0760e-01, -6.3009e-01, -5.7864e-01, -3.1837e-01,  1.8385e-01,\n",
       "          6.6346e-01,  8.0921e-01,  7.5816e-01,  5.7820e-01,  3.5834e-01,\n",
       "          1.6423e-01,  2.8785e-02,  4.0347e-03,  3.6493e-02,  8.3301e-02,\n",
       "          7.2841e-02, -2.1448e-02, -1.1660e-01, -1.7160e-01, -2.3376e-01,\n",
       "         -3.0814e-01, -3.8962e-01, -4.7090e-01, -4.9965e-01, -5.2440e-01,\n",
       "         -5.5083e-01, -5.7725e-01, -6.0367e-01, -5.3887e-01, -3.7408e-01,\n",
       "         -2.6427e-02,  4.4878e-01,  6.8127e-01,  5.9315e-01,  3.7622e-01,\n",
       "          1.2912e-01, -8.3058e-02, -1.5450e-01, -1.1970e-01, -3.8220e-02,\n",
       "         -2.2387e-02, -3.7337e-02, -1.3579e-01, -2.4604e-01, -4.0427e-01,\n",
       "         -5.6934e-01, -7.0856e-01, -7.9037e-01, -8.1505e-01, -8.1505e-01,\n",
       "         -8.0664e-01, -7.8862e-01, -7.8862e-01, -7.4379e-01, -4.5752e-01,\n",
       "         -7.3678e-03,  3.9747e-01,  5.0605e-01,  3.7546e-01,  1.5285e-01,\n",
       "         -1.4368e-01, -3.9057e-01, -5.3278e-01, -5.1388e-01, -4.4592e-01,\n",
       "         -3.0959e-01, -2.6018e-01, -2.7949e-01, -3.5618e-01, -4.9012e-01,\n",
       "         -6.0271e-01, -7.1291e-01, -7.9264e-01, -8.1505e-01, -8.0665e-01,\n",
       "         -7.7013e-01, -7.6220e-01, -8.0365e-01, -7.1980e-01, -3.6922e-01,\n",
       "          1.4119e-01,  5.1940e-01,  5.5927e-01,  4.2127e-01,  2.5622e-01,\n",
       "          9.1051e-02, -2.1832e-02, -7.5231e-02, -6.2428e-02,  7.6112e-03,\n",
       "          3.9660e-02, -8.3735e-03, -9.2050e-02, -2.2854e-01, -3.1232e-01,\n",
       "         -4.2233e-01, -5.3247e-01, -6.0992e-01, -6.3009e-01, -6.3009e-01,\n",
       "         -6.1646e-01, -6.3009e-01, -5.2552e-01, -2.0362e-01,  3.2585e-01,\n",
       "          7.2841e-01,  8.2312e-01,  6.8558e-01,  4.6342e-01,  3.0870e-01,\n",
       "          1.3730e-01, -6.5598e-03, -9.5663e-03,  4.5486e-02,  6.6087e-02,\n",
       "          1.1039e-02, -1.1378e-01, -2.2857e-01, -3.3868e-01, -4.2053e-01,\n",
       "         -5.0601e-01, -5.0421e-01, -5.5928e-01, -6.0367e-01, -6.4292e-01,\n",
       "         -6.7151e-01, -5.8765e-01, -2.5628e-01,  2.6830e-01,  7.2578e-01,\n",
       "          8.4917e-01,  7.0845e-01,  5.0920e-01,  2.9613e-01,  8.4498e-02,\n",
       "         -3.3026e-02, -9.5932e-03]])"
      ]
     },
     "execution_count": 7,
     "metadata": {},
     "output_type": "execute_result"
    }
   ],
   "source": [
    "targets.shape"
   ]
  },
  {
   "cell_type": "code",
   "execution_count": 9,
   "id": "3794a03e",
   "metadata": {},
   "outputs": [],
   "source": [
    "ppg = np.array(targets.squeeze())"
   ]
  },
  {
   "cell_type": "code",
   "execution_count": 10,
   "id": "300d9d44",
   "metadata": {},
   "outputs": [
    {
     "ename": "NameError",
     "evalue": "name 'sampling_rate' is not defined",
     "output_type": "error",
     "traceback": [
      "\u001b[1;31m---------------------------------------------------------------------------\u001b[0m",
      "\u001b[1;31mNameError\u001b[0m                                 Traceback (most recent call last)",
      "\u001b[1;32m~\\AppData\\Local\\Temp\\ipykernel_17028\\837463941.py\u001b[0m in \u001b[0;36m<module>\u001b[1;34m\u001b[0m\n\u001b[0;32m      3\u001b[0m \u001b[1;32mfrom\u001b[0m \u001b[0mscipy\u001b[0m \u001b[1;32mimport\u001b[0m \u001b[0minterpolate\u001b[0m\u001b[1;33m\u001b[0m\u001b[1;33m\u001b[0m\u001b[0m\n\u001b[0;32m      4\u001b[0m \u001b[1;33m\u001b[0m\u001b[0m\n\u001b[1;32m----> 5\u001b[1;33m \u001b[0msignal\u001b[0m\u001b[1;33m,\u001b[0m \u001b[0m_\u001b[0m \u001b[1;33m=\u001b[0m \u001b[0mnk\u001b[0m\u001b[1;33m.\u001b[0m\u001b[0mppg_process\u001b[0m\u001b[1;33m(\u001b[0m\u001b[0mppg\u001b[0m\u001b[1;33m,\u001b[0m \u001b[0msampling_rate\u001b[0m\u001b[1;33m=\u001b[0m\u001b[0msampling_rate\u001b[0m\u001b[1;33m)\u001b[0m\u001b[1;33m\u001b[0m\u001b[1;33m\u001b[0m\u001b[0m\n\u001b[0m\u001b[0;32m      6\u001b[0m \u001b[0mpeak\u001b[0m \u001b[1;33m=\u001b[0m \u001b[0msignal\u001b[0m\u001b[1;33m[\u001b[0m\u001b[1;34m'PPG_Peaks'\u001b[0m\u001b[1;33m]\u001b[0m \u001b[1;33m==\u001b[0m \u001b[1;32mTrue\u001b[0m\u001b[1;33m\u001b[0m\u001b[1;33m\u001b[0m\u001b[0m\n\u001b[0;32m      7\u001b[0m \u001b[1;33m\u001b[0m\u001b[0m\n",
      "\u001b[1;31mNameError\u001b[0m: name 'sampling_rate' is not defined"
     ]
    }
   ],
   "source": [
    "# def sawtooth(ppg, sampling_rate, video_time, ppg_time):\n",
    "import neurokit2 as nk\n",
    "from scipy import interpolate\n",
    "sampling_rate = 1000\n",
    "video_time =\n",
    "ppg_time =\n",
    "signal, _ = nk.ppg_process(ppg, sampling_rate=sampling_rate)\n",
    "peak = signal['PPG_Peaks'] == True\n",
    "\n",
    "video_time = np.arange(ppg.shape[0])/1000\n",
    "video_time = video_time[::40]\n",
    "vt_ind = np.arange(video_time.shape[0])\n",
    "interp_func = interpolate.interp1d(video_time, vt_ind)\n",
    "\n",
    "# ppg time is always short than video time?\n",
    "vt_indi = interp_func(ppg_time[peak])\n",
    "vt_pk_indi = np.round(vt_indi).astype(int)\n",
    "vt_pk = video_time[vt_pk_indi]  # peak times in video time\n",
    "# valley times in video time\n",
    "vt_vy = vt_pk[:-1] + (vt_pk[1:] - vt_pk[:-1])*0.66\n",
    "\n",
    "pks = [1]*vt_pk.shape[0]\n",
    "vys = [0]*vt_vy.shape[0]\n",
    "\n",
    "vt_pv = np.stack((vt_pk[:-1], vt_vy), axis=1).reshape(-1)\n",
    "# peak and valley times in video time\n",
    "vt_pv = np.append(vt_pv, vt_pk[-1])\n",
    "# peak and valley times in video time\n",
    "vt_pv = np.append(self.video_time[0], vt_pv)\n",
    "# peak and valley times in video time\n",
    "vt_pv = np.append(vt_pv, self.video_time[-1])\n",
    "\n",
    "v_pv = np.stack((pks[:-1], vys), axis=1).reshape(-1)\n",
    "# peak and valley values in video time\n",
    "v_pv = np.append(v_pv, pks[-1])\n",
    "v_pv = np.append(vys[0], v_pv)\n",
    "# peak and valley values in video time\n",
    "v_pv = np.append(v_pv, vys[0])\n",
    "\n",
    "# ideal peak anv valley function\n",
    "interp_func = interpolate.interp1d(vt_pv, v_pv)\n",
    "# [:vlen] # sawtooth ppg at video time cut\n",
    "ppg_st = interp_func(self.video_time)"
   ]
  },
  {
   "cell_type": "code",
   "execution_count": null,
   "id": "af07ce64",
   "metadata": {},
   "outputs": [],
   "source": []
  },
  {
   "cell_type": "code",
   "execution_count": null,
   "id": "0d1824b0",
   "metadata": {},
   "outputs": [],
   "source": []
  }
 ],
 "metadata": {
  "kernelspec": {
   "display_name": "Python 3 (ipykernel)",
   "language": "python",
   "name": "python3"
  },
  "language_info": {
   "codemirror_mode": {
    "name": "ipython",
    "version": 3
   },
   "file_extension": ".py",
   "mimetype": "text/x-python",
   "name": "python",
   "nbconvert_exporter": "python",
   "pygments_lexer": "ipython3",
   "version": "3.7.9"
  }
 },
 "nbformat": 4,
 "nbformat_minor": 5
}
