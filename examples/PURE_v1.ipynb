{
 "cells": [
  {
   "cell_type": "code",
   "execution_count": 1,
   "id": "ad883e90",
   "metadata": {},
   "outputs": [
    {
     "name": "stderr",
     "output_type": "stream",
     "text": [
      "C:\\Users\\sungb\\anaconda3\\envs\\torch\\lib\\site-packages\\torchvision\\io\\image.py:11: UserWarning: Failed to load image Python extension: [WinError 126] 지정된 모듈을 찾을 수 없습니다\n",
      "  warn(f\"Failed to load image Python extension: {e}\")\n"
     ]
    }
   ],
   "source": [
    "from torch.utils.data import DataLoader\n",
    "import sys\n",
    "import os\n",
    "from glob import glob\n",
    "sys.path.append(\"../\")\n",
    "sys.path.append(\"../datasets/\")\n",
    "sys.path.append(\"../archs/\")\n",
    "from datasets.MAHNOB import MAHNOB\n",
    "from datasets.PURE import PURE"
   ]
  },
  {
   "cell_type": "code",
   "execution_count": 2,
   "id": "ce91f288",
   "metadata": {},
   "outputs": [
    {
     "data": {
      "text/plain": [
       "['01-06/01-06']"
      ]
     },
     "execution_count": 2,
     "metadata": {},
     "output_type": "execute_result"
    }
   ],
   "source": [
    "# PURE\n",
    "video_path = \"../../../Dropbox/rPPG/PURE/\"\n",
    "video_fns = [path + \"/\" + path for path in os.listdir(video_path)][5:6]\n",
    "print(video_fns)\n",
    "dataset = PURE(video_path, video_fns, 512, isTrain=True,\n",
    "               ppg_offset=6, overlap=0, normalize=False)"
   ]
  },
  {
   "cell_type": "code",
   "execution_count": 10,
   "id": "a4f3f36d",
   "metadata": {},
   "outputs": [
    {
     "ename": "NameError",
     "evalue": "name 'dataset' is not defined",
     "output_type": "error",
     "traceback": [
      "\u001b[1;31m---------------------------------------------------------------------------\u001b[0m",
      "\u001b[1;31mNameError\u001b[0m                                 Traceback (most recent call last)",
      "\u001b[1;32m~\\AppData\\Local\\Temp\\ipykernel_9176\\2691105086.py\u001b[0m in \u001b[0;36m<module>\u001b[1;34m\u001b[0m\n\u001b[1;32m----> 1\u001b[1;33m \u001b[0mtest\u001b[0m \u001b[1;33m=\u001b[0m \u001b[0mDataLoader\u001b[0m\u001b[1;33m(\u001b[0m\u001b[0mdataset\u001b[0m\u001b[1;33m)\u001b[0m\u001b[1;33m\u001b[0m\u001b[1;33m\u001b[0m\u001b[0m\n\u001b[0m",
      "\u001b[1;31mNameError\u001b[0m: name 'dataset' is not defined"
     ]
    }
   ],
   "source": [
    "test = DataLoader(dataset)"
   ]
  },
  {
   "cell_type": "code",
   "execution_count": 5,
   "id": "c457cc24",
   "metadata": {},
   "outputs": [
    {
     "name": "stdout",
     "output_type": "stream",
     "text": [
      "torch.Size([1, 3, 512, 128, 128])\n",
      "torch.Size([1, 3, 512, 128, 128])\n",
      "torch.Size([1, 3, 512, 128, 128])\n",
      "torch.Size([1, 3, 512, 128, 128])\n"
     ]
    }
   ],
   "source": [
    "import matplotlib.pyplot as plt\n",
    "%matplotlib inline\n",
    "for vids, targets in test:\n",
    "    print(vids.shape)\n",
    "    #     break"
   ]
  },
  {
   "cell_type": "code",
   "execution_count": 6,
   "id": "0223853a",
   "metadata": {},
   "outputs": [],
   "source": [
    "import cv2\n",
    "import numpy as np\n",
    "for i in range(512):\n",
    "    cv2.imshow('sample image', cv2.cvtColor(\n",
    "        np.array(vids[0, :, i, :, :].permute(1, 2, 0)), cv2.COLOR_BGR2RGB))\n",
    "    cv2.waitKey(0)  # waits until a key is pressed\n",
    "cv2.destroyAllWindows()  # destroys the window showing image"
   ]
  },
  {
   "cell_type": "code",
   "execution_count": null,
   "id": "af07ce64",
   "metadata": {},
   "outputs": [],
   "source": []
  },
  {
   "cell_type": "code",
   "execution_count": null,
   "id": "0d1824b0",
   "metadata": {},
   "outputs": [],
   "source": []
  }
 ],
 "metadata": {
  "kernelspec": {
   "display_name": "Python 3 (ipykernel)",
   "language": "python",
   "name": "python3"
  },
  "language_info": {
   "codemirror_mode": {
    "name": "ipython",
    "version": 3
   },
   "file_extension": ".py",
   "mimetype": "text/x-python",
   "name": "python",
   "nbconvert_exporter": "python",
   "pygments_lexer": "ipython3",
   "version": "3.7.9"
  }
 },
 "nbformat": 4,
 "nbformat_minor": 5
}
